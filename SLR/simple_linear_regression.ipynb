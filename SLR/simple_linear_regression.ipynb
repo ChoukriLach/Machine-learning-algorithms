{
 "cells": [
  {
   "cell_type": "markdown",
   "id": "703a668a",
   "metadata": {},
   "source": [
    "# Simple linear regression using numpy"
   ]
  },
  {
   "cell_type": "markdown",
   "id": "d599e792",
   "metadata": {},
   "source": [
    "## Libraries"
   ]
  },
  {
   "cell_type": "code",
   "execution_count": 1,
   "id": "b066a14d",
   "metadata": {},
   "outputs": [],
   "source": [
    "import numpy as np\n",
    "from sklearn.datasets import make_regression\n",
    "import matplotlib.pyplot as plt"
   ]
  },
  {
   "cell_type": "markdown",
   "id": "9c2c57cf",
   "metadata": {},
   "source": [
    "## 1. Dataset"
   ]
  },
  {
   "cell_type": "code",
   "execution_count": 2,
   "id": "61ec884a",
   "metadata": {},
   "outputs": [
    {
     "data": {
      "image/png": "[encoded data removed]",
      "text/plain": [
       "<Figure size 432x288 with 1 Axes>"
      ]
     },
     "metadata": {
      "needs_background": "light"
     },
     "output_type": "display_data"
    }
   ],
   "source": [
    "np.random.seed(0) # to reproduce the same Dataset each time\n",
    "x, y = make_regression(n_samples=100, n_features=1, noise=10)\n",
    "plt.scatter(x, y);"
   ]
  },
  {
   "cell_type": "markdown",
   "id": "4b45caad",
   "metadata": {},
   "source": [
    "Important: check the dimensions of x and y . We fix the problem with np.reshape if the shape of x and y isn't the same"
   ]
  },
  {
   "cell_type": "code",
   "execution_count": 3,
   "id": "6ec203bf",
   "metadata": {},
   "outputs": [
    {
     "name": "stdout",
     "output_type": "stream",
     "text": [
      "(100, 1)\n",
      "(100,)\n",
      "(100, 1)\n"
     ]
    }
   ],
   "source": [
    "print(x.shape)\n",
    "print(y.shape)\n",
    "\n",
    "y = y.reshape(x.shape)\n",
    "print(y.shape)"
   ]
  },
  {
   "cell_type": "markdown",
   "id": "c0b11531",
   "metadata": {},
   "source": [
    "Creation of the matrix X which contains the Bias column. For that, we glue against each other the vector x and a vector 1 (with np.ones) of dimension equal to that of x "
   ]
  },
  {
   "cell_type": "code",
   "execution_count": 4,
   "id": "188a64f5",
   "metadata": {},
   "outputs": [
    {
     "name": "stdout",
     "output_type": "stream",
     "text": [
      "(100, 2)\n"
     ]
    }
   ],
   "source": [
    "X = np.hstack((x, np.ones(x.shape)))\n",
    "print(X.shape)"
   ]
  },
  {
   "cell_type": "markdown",
   "id": "9c70efd8",
   "metadata": {},
   "source": [
    "creation of a parameter vector, initialized with random coefficients. This vector has dimension (2, 1). "
   ]
  },
  {
   "cell_type": "code",
   "execution_count": 5,
   "id": "6be2d35c",
   "metadata": {},
   "outputs": [
    {
     "data": {
      "text/plain": [
       "array([[1.76405235],\n",
       "       [0.40015721]])"
      ]
     },
     "execution_count": 5,
     "metadata": {},
     "output_type": "execute_result"
    }
   ],
   "source": [
    "np.random.seed(0) # pour produire toujours le meme vecteur theta aléatoire\n",
    "theta = np.random.randn(2, 1)\n",
    "theta"
   ]
  },
  {
   "cell_type": "markdown",
   "id": "6a5e854a",
   "metadata": {},
   "source": [
    "## 2. Linear Model"
   ]
  },
  {
   "cell_type": "markdown",
   "id": "a7b905d3",
   "metadata": {},
   "source": [
    "We implement a model F = X.θ , then we test the model to see if there is no bug (good practice requires). In addition, it allows to see what the initial model looks like, defined by the value of θ ."
   ]
  },
  {
   "cell_type": "code",
   "execution_count": 6,
   "id": "db74a674",
   "metadata": {},
   "outputs": [],
   "source": [
    "def model(X, theta):\n",
    "    return X.dot(theta)"
   ]
  },
  {
   "cell_type": "code",
   "execution_count": 7,
   "id": "45eb828e",
   "metadata": {},
   "outputs": [
    {
     "data": {
      "image/png": "[encoded data removed]",
      "text/plain": [
       "<Figure size 432x288 with 1 Axes>"
      ]
     },
     "metadata": {
      "needs_background": "light"
     },
     "output_type": "display_data"
    }
   ],
   "source": [
    "plt.scatter(x, y)\n",
    "plt.plot(x, model(X, theta), c='r');"
   ]
  },
  {
   "cell_type": "markdown",
   "id": "f56d1c44",
   "metadata": {},
   "source": [
    "## 3. Cost/Loss function : Mean Squared Error (MSE)"
   ]
  },
  {
   "attachments": {
    "image.png": {
     "image/png": "[encoded data removed]"
    }
   },
   "cell_type": "markdown",
   "id": "5ba2cd40",
   "metadata": {},
   "source": [
    "We measure the errors of the model on the Dataset X, y by implementing MSE \n",
    "![image.png](attachment:image.png)\n",
    "\n"
   ]
  },
  {
   "cell_type": "code",
   "execution_count": 8,
   "id": "5ceb46e5",
   "metadata": {},
   "outputs": [],
   "source": [
    "def cost_function(X, y, theta):\n",
    "    m = len(y)\n",
    "    return 1/(2*m) * np.sum((model(X, theta) - y)**2)"
   ]
  },
  {
   "cell_type": "code",
   "execution_count": 9,
   "id": "769bb5ed",
   "metadata": {},
   "outputs": [
    {
     "data": {
      "text/plain": [
       "905.6306841935502"
      ]
     },
     "execution_count": 9,
     "metadata": {},
     "output_type": "execute_result"
    }
   ],
   "source": [
    "cost_function(X, y, theta)"
   ]
  },
  {
   "cell_type": "markdown",
   "id": "ae128ce4",
   "metadata": {},
   "source": [
    "## 4. Gradients and Gradient Descent"
   ]
  },
  {
   "attachments": {
    "image-2.png": {
     "image/png": "[encoded data removed]"
    },
    "image.png": {
     "image/png": "[encoded data removed]"
    }
   },
   "cell_type": "markdown",
   "id": "b5eb73cf",
   "metadata": {},
   "source": [
    "We implement the gradient formula for the MSE :\n",
    "![image.png](attachment:image.png)\n",
    "Then we use this function in the gradient descent:\n",
    "![image-2.png](attachment:image-2.png)"
   ]
  },
  {
   "cell_type": "code",
   "execution_count": 10,
   "id": "5917d12d",
   "metadata": {},
   "outputs": [],
   "source": [
    "def grad(X, y, theta):\n",
    "    m = len(y)\n",
    "    return 1/m * X.T.dot(model(X, theta) - y)"
   ]
  },
  {
   "cell_type": "code",
   "execution_count": 11,
   "id": "32e13660",
   "metadata": {},
   "outputs": [],
   "source": [
    "def gradient_descent(X, y, theta, learning_rate, n_iterations):\n",
    "    \n",
    "    cost_history = np.zeros(n_iterations) # creation of a storage table to record the evolution of the Cost of the model\n",
    "    \n",
    "    for i in range(0, n_iterations):\n",
    "        theta = theta - learning_rate * grad(X, y, theta) \n",
    "        cost_history[i] = cost_function(X, y, theta) \n",
    "        \n",
    "    return theta , cost_history"
   ]
  },
  {
   "cell_type": "markdown",
   "id": "ed4c0093",
   "metadata": {},
   "source": [
    "## 5. Training phase"
   ]
  },
  {
   "cell_type": "code",
   "execution_count": 12,
   "id": "7829d4c3",
   "metadata": {},
   "outputs": [],
   "source": [
    "n_iterations = 1000\n",
    "learning_rate = 0.01\n",
    "\n",
    "theta_final , cost_history = gradient_descent(X, y, theta, learning_rate, n_iterations)"
   ]
  },
  {
   "cell_type": "code",
   "execution_count": 13,
   "id": "7fddd2f3",
   "metadata": {},
   "outputs": [
    {
     "data": {
      "text/plain": [
       "array([[42.61765864],\n",
       "       [-0.81309274]])"
      ]
     },
     "execution_count": 13,
     "metadata": {},
     "output_type": "execute_result"
    }
   ],
   "source": [
    "theta_final"
   ]
  },
  {
   "cell_type": "code",
   "execution_count": 14,
   "id": "af3dcfc3",
   "metadata": {},
   "outputs": [
    {
     "data": {
      "image/png": "[encoded data removed]",
      "text/plain": [
       "<Figure size 432x288 with 1 Axes>"
      ]
     },
     "metadata": {
      "needs_background": "light"
     },
     "output_type": "display_data"
    }
   ],
   "source": [
    "# creation of a prediction vector which contains the predictions of our final model\n",
    "predictions = model(X, theta_final)\n",
    "\n",
    "# Displays the prediction results (in red) compared to our Dataset (in blue)\n",
    "plt.scatter(x, y)\n",
    "plt.plot(x, predictions, c='r');"
   ]
  },
  {
   "cell_type": "markdown",
   "id": "aafae972",
   "metadata": {},
   "source": [
    "To check if our Gradient Descent algorithm worked well, we observe the evolution of the cost function through the iterations. We are supposed to obtain a curve which decreases with each iteration until it stagnates at a minimum level (close to zero). If the curve does not follow this pattern, then the learning_rate step may be too high, it is necessary to take a lower step."
   ]
  },
  {
   "cell_type": "code",
   "execution_count": 15,
   "id": "f70c7d35",
   "metadata": {},
   "outputs": [
    {
     "data": {
      "image/png": "[encoded data removed]",
      "text/plain": [
       "<Figure size 432x288 with 1 Axes>"
      ]
     },
     "metadata": {
      "needs_background": "light"
     },
     "output_type": "display_data"
    }
   ],
   "source": [
    "plt.title('Empirical error evolution of linear regression')\n",
    "plt.xlabel('Iterations')\n",
    "plt.ylabel('Mean squared error')\n",
    "plt.plot(range(n_iterations), cost_history)\n",
    "plt.show()"
   ]
  },
  {
   "cell_type": "markdown",
   "id": "2ae2f72a",
   "metadata": {},
   "source": [
    "## 7. Final evaluation\n"
   ]
  },
  {
   "cell_type": "markdown",
   "id": "080a14db",
   "metadata": {},
   "source": [
    "To evaluate the real performance of our model with a popular metric (for your boss, client, or your colleagues) we can use the coefficient of determination, also known as . It comes from the method of least squares. The closer the result is to 1, the better your model is."
   ]
  },
  {
   "cell_type": "code",
   "execution_count": 16,
   "id": "f27b98f2",
   "metadata": {},
   "outputs": [],
   "source": [
    "def coef_determination(y, pred):\n",
    "    u = ((y - pred)**2).sum()\n",
    "    v = ((y - y.mean())**2).sum()\n",
    "    return 1 - u/v"
   ]
  },
  {
   "cell_type": "code",
   "execution_count": 17,
   "id": "09fb12a3",
   "metadata": {},
   "outputs": [
    {
     "data": {
      "text/plain": [
       "0.9417294706504984"
      ]
     },
     "execution_count": 17,
     "metadata": {},
     "output_type": "execute_result"
    }
   ],
   "source": [
    "coef_determination(y, predictions)"
   ]
  }
 ],
 "metadata": {
  "kernelspec": {
   "display_name": "Python 3 (ipykernel)",
   "language": "python",
   "name": "python3"
  },
  "language_info": {
   "codemirror_mode": {
    "name": "ipython",
    "version": 3
   },
   "file_extension": ".py",
   "mimetype": "text/x-python",
   "name": "python",
   "nbconvert_exporter": "python",
   "pygments_lexer": "ipython3",
   "version": "3.9.7"
  }
 },
 "nbformat": 4,
 "nbformat_minor": 5
}
